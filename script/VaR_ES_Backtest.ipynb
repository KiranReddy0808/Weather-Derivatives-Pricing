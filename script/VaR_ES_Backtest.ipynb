{
 "cells": [
  {
   "cell_type": "markdown",
   "metadata": {},
   "source": [
    "# IO\n"
   ]
  },
  {
   "cell_type": "code",
   "execution_count": 3,
   "metadata": {},
   "outputs": [],
   "source": [
    "import pickle\n",
    "from pprint import pprint\n",
    "import os\n",
    "import sys\n",
    "\n",
    "import matplotlib.pyplot as plt\n",
    "import numpy as np\n",
    "import pandas as pd\n",
    "from wxderivs import (\n",
    "    DIR_WORK,\n",
    "    MONTH_CDD,\n",
    "    MONTH_HDD,\n",
    "    NUM_SIM,\n",
    "    SET_CDD,\n",
    "    SET_HDD,\n",
    "    SET_USA,\n",
    "    EllipticalCop,\n",
    "    dct_name_file,\n",
    "    get_gen_idx_cv,\n",
    "    get_joint_test_stat_cv,\n",
    "    get_sim,\n",
    "    get_VaR_ES_portfolio,\n",
    "    make_cdf_ppf,\n",
    ")\n",
    "\n",
    "currentdir = os.getcwd()"
   ]
  },
  {
   "cell_type": "code",
   "execution_count": 6,
   "metadata": {},
   "outputs": [
    {
     "name": "stdout",
     "output_type": "stream",
     "text": [
      "['df_avg_all',\n",
      " 'df_max_all',\n",
      " 'df_min_all',\n",
      " 'dct_fit_res',\n",
      " 'df_y',\n",
      " 'df_y_pred',\n",
      " 'df_res',\n",
      " 'df_std',\n",
      " 'df_res_scaled',\n",
      " 'df_cdd',\n",
      " 'df_cdd_pred',\n",
      " 'df_cdd_res',\n",
      " 'df_hdd',\n",
      " 'df_hdd_pred',\n",
      " 'df_hdd_res',\n",
      " 'df_evi_all']\n"
     ]
    }
   ],
   "source": [
    "file_in = os.path.join(currentdir, \"../out/res_CDD_HDD.pkl\")\n",
    "with open(file_in, \"rb\") as f:\n",
    "    data_in = pickle.load(f)\n",
    "pprint(list(data_in.keys()))\n",
    "dct_fit_res = data_in[\"dct_fit_res\"]\n",
    "df_y = data_in[\"df_y\"]\n",
    "df_y_pred = data_in[\"df_y_pred\"]\n",
    "df_res = data_in[\"df_res\"]\n",
    "df_std = data_in[\"df_std\"]\n",
    "df_res_scaled = data_in[\"df_res_scaled\"]"
   ]
  },
  {
   "cell_type": "markdown",
   "metadata": {},
   "source": [
    "> `df_res_scaled`: $\\frac{T-T_{pred}}{std_{res}}$ for us to model and compare tail risk metrics; notice models are built on this (scaled) raw temperature residuals, rather than CDD/HDD residuals;\n",
    ">\n",
    "> Assuming equal weight portfolio.\n",
    "\n",
    "- model $T$ residuals, in CDD/HDD months, separately\n",
    "- model candidates (all of non-parametric margin, which can be shared)\n",
    "  - Gaussian cop\n",
    "  - Student's t cop\n",
    "  - vine cop\n",
    "- metrics to compare\n",
    "  - scoring function-based VaR-ES joint test\n",
    "    - test stat is Z-score, null hypothesis is to accept the model\n",
    "  - Deng, K. and Qiu, J., 2021. Backtesting expected shortfall and beyond. Quantitative Finance, 21(7), pp.1109-1125.\n",
    "    - equation 23\n",
    "  - using 10-fold cross validation\n"
   ]
  },
  {
   "cell_type": "markdown",
   "metadata": {},
   "source": [
    "- Eq. 22\n",
    "\n",
    "```python\n",
    "alpha * (srs_VaR_portfolio - srs_ES_portfolio) + (\n",
    "  srs_test_portfolio - srs_VaR_portfolio\n",
    ").clip(None, 0)\n",
    "```\n",
    "\n",
    "- Eq. 23\n",
    "\n",
    "```python\n",
    "(\n",
    "  (srs_test_portfolio - srs_VaR_portfolio).clip(None, 0)\n",
    "  / (srs_VaR_portfolio - srs_ES_portfolio)\n",
    ").mean().item() / alpha + 1\n",
    "```\n"
   ]
  },
  {
   "cell_type": "markdown",
   "metadata": {},
   "source": [
    "# CDD scaled res\n",
    "\n",
    "> assuming equal long weight portfolio\n",
    "> only days in CDD months\n"
   ]
  },
  {
   "cell_type": "code",
   "execution_count": 7,
   "metadata": {},
   "outputs": [],
   "source": [
    "# ! only those days in CDD months\n",
    "idx_all = df_y.index[df_y.index.month.isin(MONTH_CDD)]\n",
    "# * CV\n",
    "gen = get_gen_idx_cv(idx_all=idx_all, num_splits=5)\n",
    "dct_res_cv_cdd = {}\n",
    "for idx, (idx_train, idx_test) in enumerate(gen):\n",
    "    dct_sim = get_sim(df_train=df_res_scaled.loc[idx_train], num_sim=NUM_SIM)\n",
    "    dct_res_cv_cdd[idx] = get_VaR_ES_portfolio(\n",
    "        dct_sim=dct_sim,\n",
    "        df_y_test=df_y.loc[idx_test],\n",
    "        df_std=df_std,\n",
    "        df_y_pred=df_y_pred,\n",
    "        is_cdd=True,\n",
    "    )"
   ]
  },
  {
   "cell_type": "code",
   "execution_count": null,
   "metadata": {},
   "outputs": [
    {
     "data": {
      "application/vnd.microsoft.datawrangler.viewer.v0+json": {
       "columns": [
        {
         "name": "index",
         "rawType": "object",
         "type": "string"
        },
        {
         "name": "gaussian",
         "rawType": "float64",
         "type": "float"
        },
        {
         "name": "studentt",
         "rawType": "float64",
         "type": "float"
        },
        {
         "name": "vine",
         "rawType": "float64",
         "type": "float"
        }
       ],
       "conversionMethod": "pd.DataFrame",
       "ref": "1ad80f3f-48c8-495f-97e7-52911101ad93",
       "rows": [
        [
         "count",
         "1561.0",
         "1561.0",
         "1561.0"
        ],
        [
         "mean",
         "-0.000566387678593269",
         "-0.0005795699591273052",
         "-0.0007356075441914825"
        ],
        [
         "std",
         "0.024534337580044016",
         "0.025067000000354507",
         "0.024703641355768226"
        ],
        [
         "min",
         "-0.45088981931032773",
         "-0.4577720622799103",
         "-0.4489482628399231"
        ],
        [
         "25%",
         "0.0025768931263888684",
         "0.0027481959651759814",
         "0.0024958066814159633"
        ],
        [
         "50%",
         "0.00322100631524353",
         "0.0033956819992003564",
         "0.0031401694457298293"
        ],
        [
         "75%",
         "0.004535123712626254",
         "0.004674161418078493",
         "0.004456983100656148"
        ],
        [
         "max",
         "0.008354777777911649",
         "0.008228898325098244",
         "0.008001365328550952"
        ]
       ],
       "shape": {
        "columns": 3,
        "rows": 8
       }
      },
      "text/html": [
       "<div>\n",
       "<style scoped>\n",
       "    .dataframe tbody tr th:only-of-type {\n",
       "        vertical-align: middle;\n",
       "    }\n",
       "\n",
       "    .dataframe tbody tr th {\n",
       "        vertical-align: top;\n",
       "    }\n",
       "\n",
       "    .dataframe thead th {\n",
       "        text-align: right;\n",
       "    }\n",
       "</style>\n",
       "<table border=\"1\" class=\"dataframe\">\n",
       "  <thead>\n",
       "    <tr style=\"text-align: right;\">\n",
       "      <th></th>\n",
       "      <th>gaussian</th>\n",
       "      <th>studentt</th>\n",
       "      <th>vine</th>\n",
       "    </tr>\n",
       "  </thead>\n",
       "  <tbody>\n",
       "    <tr>\n",
       "      <th>count</th>\n",
       "      <td>1561.000000</td>\n",
       "      <td>1561.000000</td>\n",
       "      <td>1561.000000</td>\n",
       "    </tr>\n",
       "    <tr>\n",
       "      <th>mean</th>\n",
       "      <td>-0.000566</td>\n",
       "      <td>-0.000580</td>\n",
       "      <td>-0.000736</td>\n",
       "    </tr>\n",
       "    <tr>\n",
       "      <th>std</th>\n",
       "      <td>0.024534</td>\n",
       "      <td>0.025067</td>\n",
       "      <td>0.024704</td>\n",
       "    </tr>\n",
       "    <tr>\n",
       "      <th>min</th>\n",
       "      <td>-0.450890</td>\n",
       "      <td>-0.457772</td>\n",
       "      <td>-0.448948</td>\n",
       "    </tr>\n",
       "    <tr>\n",
       "      <th>25%</th>\n",
       "      <td>0.002577</td>\n",
       "      <td>0.002748</td>\n",
       "      <td>0.002496</td>\n",
       "    </tr>\n",
       "    <tr>\n",
       "      <th>50%</th>\n",
       "      <td>0.003221</td>\n",
       "      <td>0.003396</td>\n",
       "      <td>0.003140</td>\n",
       "    </tr>\n",
       "    <tr>\n",
       "      <th>75%</th>\n",
       "      <td>0.004535</td>\n",
       "      <td>0.004674</td>\n",
       "      <td>0.004457</td>\n",
       "    </tr>\n",
       "    <tr>\n",
       "      <th>max</th>\n",
       "      <td>0.008355</td>\n",
       "      <td>0.008229</td>\n",
       "      <td>0.008001</td>\n",
       "    </tr>\n",
       "  </tbody>\n",
       "</table>\n",
       "</div>"
      ],
      "text/plain": [
       "          gaussian     studentt         vine\n",
       "count  1561.000000  1561.000000  1561.000000\n",
       "mean     -0.000566    -0.000580    -0.000736\n",
       "std       0.024534     0.025067     0.024704\n",
       "min      -0.450890    -0.457772    -0.448948\n",
       "25%       0.002577     0.002748     0.002496\n",
       "50%       0.003221     0.003396     0.003140\n",
       "75%       0.004535     0.004674     0.004457\n",
       "max       0.008355     0.008229     0.008001"
      ]
     },
     "metadata": {},
     "output_type": "display_data"
    },
    {
     "data": {
      "text/plain": [
       "gaussian   -0.004134\n",
       "studentt   -0.006974\n",
       "vine       -0.054268\n",
       "Name: Z-Score, dtype: float64"
      ]
     },
     "execution_count": 8,
     "metadata": {},
     "output_type": "execute_result"
    },
    {
     "data": {
      "image/png": "[encoded data removed]",
      "text/plain": [
       "<Figure size 640x480 with 1 Axes>"
      ]
     },
     "metadata": {},
     "output_type": "display_data"
    }
   ],
   "source": [
    "# Generate the test statistics DataFrame\n",
    "dct_test_stat = get_joint_test_stat_cv(\n",
    "    dct_VaR_ES_cv=dct_res_cv_cdd,\n",
    "    alpha=0.05,\n",
    ")\n",
    "df_stat_cdd = pd.DataFrame(dct_test_stat[\"srs_test_stat\"])\n",
    "\n",
    "# Scatter plot\n",
    "fig, ax = plt.subplots()\n",
    "for col in df_stat_cdd.columns:\n",
    "    ax.scatter(df_stat_cdd.index, df_stat_cdd[col], label=col, s=4, alpha=0.5)\n",
    "for year in df_stat_cdd.index.year.unique():\n",
    "    plt.axvline(pd.Timestamp(f\"{year}-01-01\"), color=\"gray\", lw=0.5, ls=\"--\")\n",
    "plt.axhline(0, color=\"black\", lw=1, ls=\"--\")\n",
    "plt.legend()\n",
    "plt.xlabel(\"Date\")\n",
    "plt.ylabel(\"Z-Score\")\n",
    "plt.title(\"VaR ES joint test stat for CDD\")\n",
    "\n",
    "# Save the scatter plot as an SVG file\n",
    "scatter_svg_file_path = \"df_stat_cdd.svg\"\n",
    "plt.savefig(scatter_svg_file_path, format=\"svg\")\n",
    "\n",
    "# Save the description of df_stat_cdd as an SVG table\n",
    "description = df_stat_cdd.describe()\n",
    "\n",
    "fig_table, ax_table = plt.subplots(figsize=(12, 8))\n",
    "ax_table.xaxis.set_visible(False)\n",
    "ax_table.yaxis.set_visible(False)\n",
    "ax_table.set_frame_on(False)\n",
    "\n",
    "table = ax_table.table(\n",
    "    cellText=description.values,\n",
    "    colLabels=description.columns,\n",
    "    rowLabels=description.index,\n",
    "    cellLoc=\"center\",\n",
    "    loc=\"center\",\n",
    ")\n",
    "table.auto_set_font_size(False)\n",
    "table.set_fontsize(9)\n",
    "table.scale(1.2, 1.2)\n",
    "\n",
    "plt.subplots_adjust(left=0.2, right=0.8, top=0.8, bottom=0.2)\n",
    "table_svg_file_path = \"df_stat_cdd_description.svg\"\n",
    "fig_table.savefig(table_svg_file_path, format=\"svg\")\n",
    "\n",
    "# Save the srs_test_stat as an SVG table\n",
    "srs_test_stat = pd.Series(dct_test_stat[\"test_stat\"], name=\"Z-Score\")\n",
    "srs_test_stat_df = srs_test_stat.to_frame()\n",
    "\n",
    "fig_srs, ax_srs = plt.subplots(figsize=(8, 6))\n",
    "ax_srs.xaxis.set_visible(False)\n",
    "ax_srs.yaxis.set_visible(False)\n",
    "ax_srs.set_frame_on(False)\n",
    "\n",
    "table_srs = ax_srs.table(\n",
    "    cellText=srs_test_stat_df.values,\n",
    "    colLabels=srs_test_stat_df.columns,\n",
    "    rowLabels=srs_test_stat_df.index,\n",
    "    cellLoc=\"center\",\n",
    "    loc=\"center\",\n",
    ")\n",
    "table_srs.auto_set_font_size(False)\n",
    "table_srs.set_fontsize(9)\n",
    "table_srs.scale(1.2, 1.2)\n",
    "\n",
    "plt.subplots_adjust(left=0.2, right=0.8, top=0.8, bottom=0.2)\n",
    "srs_svg_file_path = \"srs_test_stat_cdd.svg\"\n",
    "fig_srs.savefig(srs_svg_file_path, format=\"svg\")\n",
    "\n",
    "# Show the plots (optional)\n",
    "plt.show()"
   ]
  },
  {
   "cell_type": "markdown",
   "metadata": {},
   "source": [
    "# HDD scaled res\n",
    "\n",
    "> assuming equal long weight portfolio\n",
    "> only days in HDD months\n"
   ]
  },
  {
   "cell_type": "code",
   "execution_count": null,
   "metadata": {},
   "outputs": [],
   "source": [
    "# ! only those days in HDD months\n",
    "idx_all = df_y.index[df_y.index.month.isin(MONTH_HDD)]\n",
    "# * CV\n",
    "gen = get_gen_idx_cv(idx_all=idx_all, num_splits=5)\n",
    "dct_res_cv_hdd = {}\n",
    "for idx, (idx_train, idx_test) in enumerate(gen):\n",
    "    dct_sim = get_sim(df_train=df_res_scaled.loc[idx_train], num_sim=NUM_SIM)\n",
    "    dct_res_cv_hdd[idx] = get_VaR_ES_portfolio(\n",
    "        dct_sim=dct_sim,\n",
    "        df_y_test=df_y.loc[idx_test],\n",
    "        df_std=df_std,\n",
    "        df_y_pred=df_y_pred,\n",
    "        alpha=0.05,\n",
    "        is_cdd=False,\n",
    "    )"
   ]
  },
  {
   "cell_type": "code",
   "execution_count": null,
   "metadata": {},
   "outputs": [
    {
     "data": {
      "text/html": [
       "<div>\n",
       "<style scoped>\n",
       "    .dataframe tbody tr th:only-of-type {\n",
       "        vertical-align: middle;\n",
       "    }\n",
       "\n",
       "    .dataframe tbody tr th {\n",
       "        vertical-align: top;\n",
       "    }\n",
       "\n",
       "    .dataframe thead th {\n",
       "        text-align: right;\n",
       "    }\n",
       "</style>\n",
       "<table border=\"1\" class=\"dataframe\">\n",
       "  <thead>\n",
       "    <tr style=\"text-align: right;\">\n",
       "      <th></th>\n",
       "      <th>gaussian</th>\n",
       "      <th>studentt</th>\n",
       "      <th>vine</th>\n",
       "    </tr>\n",
       "  </thead>\n",
       "  <tbody>\n",
       "    <tr>\n",
       "      <th>count</th>\n",
       "      <td>1603.000000</td>\n",
       "      <td>1603.000000</td>\n",
       "      <td>1603.000000</td>\n",
       "    </tr>\n",
       "    <tr>\n",
       "      <th>mean</th>\n",
       "      <td>0.002455</td>\n",
       "      <td>0.002513</td>\n",
       "      <td>0.000431</td>\n",
       "    </tr>\n",
       "    <tr>\n",
       "      <th>std</th>\n",
       "      <td>0.010314</td>\n",
       "      <td>0.010244</td>\n",
       "      <td>0.015300</td>\n",
       "    </tr>\n",
       "    <tr>\n",
       "      <th>min</th>\n",
       "      <td>-0.144606</td>\n",
       "      <td>-0.143879</td>\n",
       "      <td>-0.178108</td>\n",
       "    </tr>\n",
       "    <tr>\n",
       "      <th>25%</th>\n",
       "      <td>0.003508</td>\n",
       "      <td>0.003543</td>\n",
       "      <td>0.002643</td>\n",
       "    </tr>\n",
       "    <tr>\n",
       "      <th>50%</th>\n",
       "      <td>0.003851</td>\n",
       "      <td>0.003882</td>\n",
       "      <td>0.002981</td>\n",
       "    </tr>\n",
       "    <tr>\n",
       "      <th>75%</th>\n",
       "      <td>0.004259</td>\n",
       "      <td>0.004290</td>\n",
       "      <td>0.003390</td>\n",
       "    </tr>\n",
       "    <tr>\n",
       "      <th>max</th>\n",
       "      <td>0.005740</td>\n",
       "      <td>0.005863</td>\n",
       "      <td>0.005120</td>\n",
       "    </tr>\n",
       "  </tbody>\n",
       "</table>\n",
       "</div>"
      ],
      "text/plain": [
       "          gaussian     studentt         vine\n",
       "count  1603.000000  1603.000000  1603.000000\n",
       "mean      0.002455     0.002513     0.000431\n",
       "std       0.010314     0.010244     0.015300\n",
       "min      -0.144606    -0.143879    -0.178108\n",
       "25%       0.003508     0.003543     0.002643\n",
       "50%       0.003851     0.003882     0.002981\n",
       "75%       0.004259     0.004290     0.003390\n",
       "max       0.005740     0.005863     0.005120"
      ]
     },
     "metadata": {},
     "output_type": "display_data"
    },
    {
     "data": {
      "text/plain": [
       "gaussian    0.633423\n",
       "studentt    0.644233\n",
       "vine        0.149864\n",
       "Name: Z-Score, dtype: float64"
      ]
     },
     "execution_count": 6,
     "metadata": {},
     "output_type": "execute_result"
    },
    {
     "data": {
      "image/png": "[encoded data removed]",
      "text/plain": [
       "<Figure size 640x480 with 1 Axes>"
      ]
     },
     "metadata": {},
     "output_type": "display_data"
    }
   ],
   "source": [
    "dct_test_stat = get_joint_test_stat_cv(\n",
    "    dct_VaR_ES_cv=dct_res_cv_hdd,\n",
    "    alpha=0.05,\n",
    ")\n",
    "df_stat_hdd = pd.DataFrame(dct_test_stat[\"srs_test_stat\"])\n",
    "\n",
    "# Scatter plot\n",
    "fig, ax = plt.subplots()\n",
    "for col in df_stat_hdd.columns:\n",
    "    ax.scatter(df_stat_hdd.index, df_stat_hdd[col], label=col, s=4, alpha=0.5)\n",
    "for year in df_stat_hdd.index.year.unique():\n",
    "    plt.axvline(pd.Timestamp(f\"{year}-01-01\"), color=\"gray\", lw=0.5, ls=\"--\")\n",
    "plt.axhline(0, color=\"black\", lw=1, ls=\"--\")\n",
    "plt.legend()\n",
    "plt.xlabel(\"Date\")\n",
    "plt.ylabel(\"Z-Score\")\n",
    "plt.title(\"VaR ES joint test stat for HDD\")\n",
    "\n",
    "# Save the scatter plot as an SVG file\n",
    "scatter_svg_file_path = \"df_stat_hdd.svg\"\n",
    "plt.savefig(scatter_svg_file_path, format=\"svg\")\n",
    "\n",
    "# Save the description of df_stat_hdd as an SVG table\n",
    "description = df_stat_hdd.describe()\n",
    "\n",
    "fig_table, ax_table = plt.subplots(figsize=(12, 8))\n",
    "ax_table.xaxis.set_visible(False)\n",
    "ax_table.yaxis.set_visible(False)\n",
    "ax_table.set_frame_on(False)\n",
    "\n",
    "table = ax_table.table(\n",
    "    cellText=description.values,\n",
    "    colLabels=description.columns,\n",
    "    rowLabels=description.index,\n",
    "    cellLoc=\"center\",\n",
    "    loc=\"center\",\n",
    ")\n",
    "table.auto_set_font_size(False)\n",
    "table.set_fontsize(9)\n",
    "table.scale(1.2, 1.2)\n",
    "\n",
    "plt.subplots_adjust(left=0.2, right=0.8, top=0.8, bottom=0.2)\n",
    "table_svg_file_path = \"df_stat_hdd_description.svg\"\n",
    "fig_table.savefig(table_svg_file_path, format=\"svg\")\n",
    "\n",
    "# Save the srs_test_stat as an SVG table\n",
    "srs_test_stat = pd.Series(dct_test_stat[\"test_stat\"], name=\"Z-Score\")\n",
    "srs_test_stat_df = srs_test_stat.to_frame()\n",
    "\n",
    "fig_srs, ax_srs = plt.subplots(figsize=(8, 6))\n",
    "ax_srs.xaxis.set_visible(False)\n",
    "ax_srs.yaxis.set_visible(False)\n",
    "ax_srs.set_frame_on(False)\n",
    "\n",
    "table_srs = ax_srs.table(\n",
    "    cellText=srs_test_stat_df.values,\n",
    "    colLabels=srs_test_stat_df.columns,\n",
    "    rowLabels=srs_test_stat_df.index,\n",
    "    cellLoc=\"center\",\n",
    "    loc=\"center\",\n",
    ")\n",
    "table_srs.auto_set_font_size(False)\n",
    "table_srs.set_fontsize(9)\n",
    "table_srs.scale(1.2, 1.2)\n",
    "\n",
    "plt.subplots_adjust(left=0.2, right=0.8, top=0.8, bottom=0.2)\n",
    "srs_svg_file_path = \"srs_test_stat_hdd.svg\"\n",
    "fig_srs.savefig(srs_svg_file_path, format=\"svg\")\n",
    "\n",
    "# Show the plots (optional)\n",
    "plt.show()"
   ]
  }
 ],
 "metadata": {
  "kernelspec": {
   "display_name": "Python 3",
   "language": "python",
   "name": "python3"
  },
  "language_info": {
   "codemirror_mode": {
    "name": "ipython",
    "version": 3
   },
   "file_extension": ".py",
   "mimetype": "text/x-python",
   "name": "python",
   "nbconvert_exporter": "python",
   "pygments_lexer": "ipython3",
   "version": "3.12.1"
  }
 },
 "nbformat": 4,
 "nbformat_minor": 2
}
